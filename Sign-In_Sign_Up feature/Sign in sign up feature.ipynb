{
 "cells": [
  {
   "cell_type": "markdown",
   "id": "d7a3f2d4",
   "metadata": {},
   "source": [
    "## Making full fledged authentication and enrollment system(sign up and sign in)"
   ]
  },
  {
   "cell_type": "code",
   "execution_count": 1,
   "id": "193e1cb1",
   "metadata": {},
   "outputs": [],
   "source": [
    "d={}"
   ]
  },
  {
   "cell_type": "code",
   "execution_count": 2,
   "id": "71d5121d",
   "metadata": {},
   "outputs": [],
   "source": [
    "def checkupper(a):\n",
    "    for char in a:\n",
    "        if char.isupper():\n",
    "            return True"
   ]
  },
  {
   "cell_type": "code",
   "execution_count": 3,
   "id": "f16dab66",
   "metadata": {},
   "outputs": [],
   "source": [
    "def checklower(a):\n",
    "    for char in a:\n",
    "        if char.islower():\n",
    "            return True"
   ]
  },
  {
   "cell_type": "code",
   "execution_count": 4,
   "id": "fa6a0cb8",
   "metadata": {},
   "outputs": [],
   "source": [
    "def checkdigit(a):\n",
    "    for char in a:\n",
    "        if char.isdigit():\n",
    "            return True"
   ]
  },
  {
   "cell_type": "code",
   "execution_count": 5,
   "id": "ce98e27c",
   "metadata": {},
   "outputs": [],
   "source": [
    "def checkspchar(a):\n",
    "    s='[@_!#$%^&*()<>?/\\|}{~:]'\n",
    "    for char in a:\n",
    "        if char in s:\n",
    "            return True"
   ]
  },
  {
   "cell_type": "code",
   "execution_count": 6,
   "id": "3bad0d35",
   "metadata": {},
   "outputs": [],
   "source": [
    "def checkpasswordstrength(up):\n",
    "    if len(up)>=6 and checkdigit(up) and checkspchar(up) and checklower(up):\n",
    "        return True\n",
    "    \n",
    "    "
   ]
  },
  {
   "cell_type": "code",
   "execution_count": 7,
   "id": "b2bd61a7",
   "metadata": {},
   "outputs": [],
   "source": [
    "def getotp(uno):\n",
    "    try:\n",
    "        from twilio.rest import Client\n",
    "        import random\n",
    "        otp = random.randint(1000,9999)\n",
    "        acc_sid = \"AC3dc968f3a2a7886999c7be8de62540ac\"\n",
    "        auth_token = \"f901ee63462aaaa346af38dfb8f42a1b\"\n",
    "        client = Client(acc_sid,auth_token)\n",
    "        msg = client.messages.create(\n",
    "          body = f\"Your OTP is {otp}\",\n",
    "          from_ = \"+13252307309\",\n",
    "          to = uno\n",
    "          )\n",
    "        return otp\n",
    "    except:\n",
    "        return 'error'"
   ]
  },
  {
   "cell_type": "code",
   "execution_count": 8,
   "id": "2639af39",
   "metadata": {},
   "outputs": [],
   "source": [
    "def forgotpw(un):\n",
    "    no = input('Enter your registered number: ')\n",
    "    if '+91'+no == d[un][1]:\n",
    "        otp = getotp(d[un][1])\n",
    "        uotp = int(input('Enter OTP sent to your registered number: '))\n",
    "        if otp == uotp:\n",
    "            print('Mobile number verified. Please reset your password')\n",
    "            while 1:\n",
    "                up = input('Enter new password: ')\n",
    "                if checkpasswordstrength(up):\n",
    "                    d.update({un:(up,no)})\n",
    "                    print('Password reset successfully')\n",
    "                    return \n",
    "                else:\n",
    "                    print('''Password must contain at least one uppercase,at least one lowercase ,at least one special character and at least one digit''')\n",
    "    else:\n",
    "        print('Entered mobile number not registered')"
   ]
  },
  {
   "cell_type": "code",
   "execution_count": 19,
   "id": "7eff9a54",
   "metadata": {},
   "outputs": [],
   "source": [
    "def signup():\n",
    "    while True:\n",
    "        un = input('Create your username: ').lower()\n",
    "        if un not in d:\n",
    "            while 1:\n",
    "                no = input('Enter your number: ')\n",
    "                if len(no)!= 10:\n",
    "                    print('Invalid number')\n",
    "                    continue\n",
    "                uno = '+91'+no\n",
    "                otp = getotp(uno)\n",
    "                if otp == 'error':\n",
    "                    print('Invalid number')\n",
    "                else:\n",
    "                    break\n",
    "            while 1:\n",
    "                uotp = int(input('Enter OTP sent to your number: '))\n",
    "                if uotp == otp:\n",
    "                    print('OTP matched..!!')\n",
    "                    while 1:\n",
    "                        up = input('Create your password: ')\n",
    "                        if checkpasswordstrength(up):\n",
    "                            d.update({un:(up,uno)})\n",
    "                            return 'Successful'\n",
    "                        else:\n",
    "                            print('''Password must contain at least one uppercase,at least one lowercase ,at least one special character and at least one digit''')\n",
    "                else:\n",
    "                    print('Incorrect OTP')\n",
    "                    continue\n",
    "        else:\n",
    "            print('Username already registered')"
   ]
  },
  {
   "cell_type": "code",
   "execution_count": 17,
   "id": "3561a99a",
   "metadata": {},
   "outputs": [],
   "source": [
    "def signin():\n",
    "    \n",
    "    un = input('Enter username: ').lower()\n",
    "    if un in d:\n",
    "        attempt=3\n",
    "        while attempt:\n",
    "            up=input('Enter password')\n",
    "            if d[un][0]==up:\n",
    "                return 'successful'\n",
    "            else:\n",
    "                print('Incorrect password')\n",
    "                fgp = input(\"Enter 'F' if forgot password or 'C' to continue trying\" )\n",
    "                if fgp.lower() == 'f':\n",
    "                    forgotpw(un)\n",
    "                elif fgp.lower() == 'c':\n",
    "                    print(attempt-1,'attempts left')\n",
    "                attempt-=1\n",
    "                \n",
    "                    \n",
    "        else:\n",
    "            return 'Failed'\n",
    "    else:\n",
    "        return 'Username not found'\n",
    "                \n",
    "        "
   ]
  },
  {
   "cell_type": "code",
   "execution_count": 18,
   "id": "4036b7ce",
   "metadata": {},
   "outputs": [
    {
     "name": "stdout",
     "output_type": "stream",
     "text": [
      "\n",
      "    Choose mode:\n",
      "    Press 1 for Sign Up\n",
      "    Press 2 for Sign In\n",
      "    Press 0 to exit\n",
      "    : 1\n",
      "Create your username: njlvme\n",
      "Enter your number: 15441\n",
      "Please enter valid no.\n",
      "Enter your number: 1234567890\n",
      "Invalid number\n",
      "Enter your number: 7057188914\n",
      "Enter OTP sent to your number: 9106\n",
      "Incorrect OTP\n",
      "Enter OTP sent to your number: 9105\n",
      "OTP matched..!!\n",
      "Create your password: bhknjhh\n",
      "Password must contain at least one uppercase,at least one lowercase ,at least one special character and at least one digit\n",
      "Create your password: Yash@345\n",
      "Sign Up Status:  Successful\n",
      "\n",
      "    Choose mode:\n",
      "    Press 1 for Sign Up\n",
      "    Press 2 for Sign In\n",
      "    Press 0 to exit\n",
      "    : 0\n"
     ]
    }
   ],
   "source": [
    "while True:\n",
    "    mode = int(input('''\n",
    "    Choose mode:\n",
    "    Press 1 for Sign Up\n",
    "    Press 2 for Sign In\n",
    "    Press 0 to exit\n",
    "    : '''))\n",
    "\n",
    "    #sign up\n",
    "    if mode == 1:\n",
    "        print('Sign Up Status: ',signup())\n",
    "\n",
    "    elif mode == 2:\n",
    "        print('Sign In Status: ',signin())\n",
    "    \n",
    "    elif mode == 0:\n",
    "        break\n",
    "\n",
    "    else:\n",
    "        print('Valid input: ')"
   ]
  },
  {
   "cell_type": "code",
   "execution_count": null,
   "id": "a81a0e36",
   "metadata": {},
   "outputs": [],
   "source": []
  },
  {
   "cell_type": "code",
   "execution_count": 1,
   "id": "d2467453",
   "metadata": {},
   "outputs": [],
   "source": []
  },
  {
   "cell_type": "code",
   "execution_count": null,
   "id": "40ebf687",
   "metadata": {},
   "outputs": [],
   "source": []
  },
  {
   "cell_type": "code",
   "execution_count": 3,
   "id": "c2d4f52a",
   "metadata": {},
   "outputs": [],
   "source": []
  },
  {
   "cell_type": "code",
   "execution_count": null,
   "id": "db384833",
   "metadata": {},
   "outputs": [],
   "source": []
  },
  {
   "cell_type": "code",
   "execution_count": null,
   "id": "460e1270",
   "metadata": {},
   "outputs": [],
   "source": []
  },
  {
   "cell_type": "code",
   "execution_count": null,
   "id": "a5459500",
   "metadata": {},
   "outputs": [],
   "source": []
  }
 ],
 "metadata": {
  "kernelspec": {
   "display_name": "Python 3 (ipykernel)",
   "language": "python",
   "name": "python3"
  },
  "language_info": {
   "codemirror_mode": {
    "name": "ipython",
    "version": 3
   },
   "file_extension": ".py",
   "mimetype": "text/x-python",
   "name": "python",
   "nbconvert_exporter": "python",
   "pygments_lexer": "ipython3",
   "version": "3.9.7"
  }
 },
 "nbformat": 4,
 "nbformat_minor": 5
}
